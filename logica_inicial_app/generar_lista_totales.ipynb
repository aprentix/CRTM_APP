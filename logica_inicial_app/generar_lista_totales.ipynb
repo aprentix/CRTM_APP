{
 "cells": [
  {
   "cell_type": "code",
   "execution_count": 7,
   "metadata": {},
   "outputs": [],
   "source": [
    "# !pip install openpyxl"
   ]
  },
  {
   "cell_type": "code",
   "execution_count": 8,
   "metadata": {},
   "outputs": [],
   "source": [
    "import openpyxl\n",
    "import pandas as pd\n",
    "import numpy as np\n",
    "import unicodedata"
   ]
  },
  {
   "cell_type": "code",
   "execution_count": 9,
   "metadata": {},
   "outputs": [],
   "source": [
    "## COLUMNAS ESTANDAR\n",
    "name_datos_base_cols = ['Idconce', 'Fecha', 'Nexpe', 'Kms', 'Sencillo', 'Indicencia',\n",
    "                        'Gratuitos', 'Recargo', 'Bonobus', 'Abottes', 'Pmun', 'Otros', 'Valman',\n",
    "                        'Total', 'Ingsencillo', 'Ingrecargo', 'Ingtotal', 'Fichero',\n",
    "                        'Fecha Proc']\n",
    "name_datos_via_cols = ['CONCESION', 'FECHA', 'NULINUSER', 'SUBLINEA', 'CODTIT', 'TITULO',\n",
    "                       'IDCODIGOPERFIL', 'CODDES', 'DESCUENTO', 'VALIDACIONES', 'FICHERO','F_PROCESO']\n",
    "name_datos_bit_cols = ['Operador', 'Concesion', 'Periodo', 'Codtit', 'Titulo', 'Subidos']\n",
    "name_datos_vac_app_cols = ['Tipo', 'Empresa', 'Concesión/Linea', 'Titulo', 'Dscr Título', 'Fecha',\n",
    "                            'Hora', 'Zona Validación', 'Validaciones']\n",
    "name_datos_vac_val_cols = ['Empresa', 'Fecha', 'Concesion', 'L Gestra', 'Desclinea', 'P Gestra',\n",
    "                            'Descparada', 'Corona', 'Codtit', 'Titulo', 'Validaciones']\n"
   ]
  },
  {
   "cell_type": "code",
   "execution_count": 10,
   "metadata": {},
   "outputs": [
    {
     "name": "stderr",
     "output_type": "stream",
     "text": [
      "C:\\Users\\ray\\AppData\\Local\\Packages\\PythonSoftwareFoundation.Python.3.11_qbz5n2kfra8p0\\LocalCache\\local-packages\\Python311\\site-packages\\openpyxl\\styles\\stylesheet.py:226: UserWarning: Workbook contains no default style, apply openpyxl's default\n",
      "  warn(\"Workbook contains no default style, apply openpyxl's default\")\n"
     ]
    }
   ],
   "source": [
    "datos_base = pd.read_excel(\"../2023-09/2023-09 DATOS_BASE.xlsx\")\n",
    "datos_via = pd.read_excel(\"../2023-09/2023-09 DATOS_VIA.xlsx\", sheet_name=2)\n",
    "datos_bit = pd.read_excel(\"../2023-09/2023-09 InformeBIT.xlsx\", sheet_name=2)\n",
    "datos_vac_app = pd.read_excel(\"../2023-09/2023-09Vac_app.xlsx\", sheet_name=0)\n",
    "datos_vac_val = pd.read_excel(\"../2023-09/2023-09Vac_val.xlsx\", sheet_name=2)\n",
    "\n",
    "# datos_base = pd.read_excel(\"./2023-08/2023-08DATOS_BASE_082023_EMTMADRID_CRTM_2023_10_6.xlsx\")\n",
    "# datos_via = pd.read_excel(\"./2023-08/2023-08DATOS_VIA_DETALLE___EMTMADRID_CRTM_2023_10_6.xlsx\", sheet_name=2)\n",
    "# datos_bit = pd.read_excel(\"./2023-08/2023-08 InformeBIT.xlsx\", sheet_name=2)\n",
    "# datos_vac_app = pd.read_excel(\"./2023-08/2023-08Vac_app.xlsx\", sheet_name=0)\n",
    "# datos_vac_val = pd.read_excel(\"./2023-08/2023-08 Vac_val.xlsx\", sheet_name=0)\n",
    "\n",
    "# datos_base = pd.read_excel(\"./2023-05/2023-05 DATOS_BASE.xlsx\")\n",
    "# datos_via = pd.read_excel(\"./2023-05/2023-05 DATOS_VIA_DETALLE.xlsx\", sheet_name=2)\n",
    "# datos_bit = pd.read_excel(\"./2023-05/2023-05 InformeBIT.xlsx\", sheet_name=2)\n",
    "# datos_vac_app = pd.read_excel(\"./2023-05/2023-05 Vac_app.xlsx\", sheet_name=2)\n",
    "# datos_vac_val = pd.read_excel(\"./2023-05/2023-05 Vac_Val.xlsx\", sheet_name=1)"
   ]
  },
  {
   "cell_type": "code",
   "execution_count": 11,
   "metadata": {},
   "outputs": [
    {
     "name": "stdout",
     "output_type": "stream",
     "text": [
      "BASE  (42, 19)\n",
      "VIA  (760665, 12)\n",
      "BIT  (3002, 6)\n",
      "VAC_APP  (149352, 9)\n",
      "VAC_VAL  (21172, 11)\n"
     ]
    }
   ],
   "source": [
    "print(\"BASE \",datos_base.shape)\n",
    "print(\"VIA \",datos_via.shape)\n",
    "print(\"BIT \",datos_bit.shape)\n",
    "print(\"VAC_APP \",datos_vac_app.shape)\n",
    "print(\"VAC_VAL \",datos_vac_val.shape)"
   ]
  },
  {
   "cell_type": "code",
   "execution_count": 12,
   "metadata": {},
   "outputs": [
    {
     "data": {
      "text/html": [
       "<div>\n",
       "<style scoped>\n",
       "    .dataframe tbody tr th:only-of-type {\n",
       "        vertical-align: middle;\n",
       "    }\n",
       "\n",
       "    .dataframe tbody tr th {\n",
       "        vertical-align: top;\n",
       "    }\n",
       "\n",
       "    .dataframe thead th {\n",
       "        text-align: right;\n",
       "    }\n",
       "</style>\n",
       "<table border=\"1\" class=\"dataframe\">\n",
       "  <thead>\n",
       "    <tr style=\"text-align: right;\">\n",
       "      <th></th>\n",
       "      <th>Operador</th>\n",
       "      <th>Concesion</th>\n",
       "      <th>Periodo</th>\n",
       "      <th>Codtit</th>\n",
       "      <th>Titulo</th>\n",
       "      <th>Subidos</th>\n",
       "    </tr>\n",
       "  </thead>\n",
       "  <tbody>\n",
       "    <tr>\n",
       "      <th>0</th>\n",
       "      <td>EMT MADRID</td>\n",
       "      <td>97</td>\n",
       "      <td>09/2023</td>\n",
       "      <td>8196</td>\n",
       "      <td>METROBUS 10 VIAJES</td>\n",
       "      <td>3824159</td>\n",
       "    </tr>\n",
       "    <tr>\n",
       "      <th>1</th>\n",
       "      <td>EMT MADRID</td>\n",
       "      <td>NaN</td>\n",
       "      <td>09/2023</td>\n",
       "      <td>4179</td>\n",
       "      <td>ABONO ANUAL TERCERA EDAD</td>\n",
       "      <td>647</td>\n",
       "    </tr>\n",
       "    <tr>\n",
       "      <th>2</th>\n",
       "      <td>NEXCONTINENTAL HOLDINGS</td>\n",
       "      <td>URCM-148</td>\n",
       "      <td>09/2023</td>\n",
       "      <td>8213</td>\n",
       "      <td>BONOBUS URBANO B2</td>\n",
       "      <td>35319</td>\n",
       "    </tr>\n",
       "    <tr>\n",
       "      <th>3</th>\n",
       "      <td>AVANZA MOVILIDAD INTEGRAL S.L.</td>\n",
       "      <td>VCM-601</td>\n",
       "      <td>09/2023</td>\n",
       "      <td>4099</td>\n",
       "      <td>30 DIAS ZONA B2</td>\n",
       "      <td>365982</td>\n",
       "    </tr>\n",
       "    <tr>\n",
       "      <th>4</th>\n",
       "      <td>NEXCONTINENTAL HOLDINGS</td>\n",
       "      <td>VCM-202</td>\n",
       "      <td>09/2023</td>\n",
       "      <td>4181</td>\n",
       "      <td>ABONO 30 DIAS JOVEN T. PLANA</td>\n",
       "      <td>409492</td>\n",
       "    </tr>\n",
       "    <tr>\n",
       "      <th>...</th>\n",
       "      <td>...</td>\n",
       "      <td>...</td>\n",
       "      <td>...</td>\n",
       "      <td>...</td>\n",
       "      <td>...</td>\n",
       "      <td>...</td>\n",
       "    </tr>\n",
       "    <tr>\n",
       "      <th>2997</th>\n",
       "      <td>NEXCONTINENTAL HOLDINGS</td>\n",
       "      <td>-</td>\n",
       "      <td>09/2023</td>\n",
       "      <td>9482</td>\n",
       "      <td>SENCILLO ZONA B2-B3</td>\n",
       "      <td>7</td>\n",
       "    </tr>\n",
       "    <tr>\n",
       "      <th>2998</th>\n",
       "      <td>METRO DE MADRID</td>\n",
       "      <td>NaN</td>\n",
       "      <td>09/2023</td>\n",
       "      <td>9513</td>\n",
       "      <td>SENCILLO COMBINADO</td>\n",
       "      <td>53626</td>\n",
       "    </tr>\n",
       "    <tr>\n",
       "      <th>2999</th>\n",
       "      <td>METRO DE MADRID</td>\n",
       "      <td>NaN</td>\n",
       "      <td>09/2023</td>\n",
       "      <td>4691</td>\n",
       "      <td>ABONO ANUAL TERCERA EDAD</td>\n",
       "      <td>2</td>\n",
       "    </tr>\n",
       "    <tr>\n",
       "      <th>3000</th>\n",
       "      <td>T.F.M.</td>\n",
       "      <td>NaN</td>\n",
       "      <td>09/2023</td>\n",
       "      <td>4131</td>\n",
       "      <td>TURISTICO T 1 DIA</td>\n",
       "      <td>8</td>\n",
       "    </tr>\n",
       "    <tr>\n",
       "      <th>3001</th>\n",
       "      <td>CERCANIAS RENFE</td>\n",
       "      <td>NaN</td>\n",
       "      <td>09/2023</td>\n",
       "      <td>4182</td>\n",
       "      <td>ABONO ANUAL JOVEN T. PLANA</td>\n",
       "      <td>965</td>\n",
       "    </tr>\n",
       "  </tbody>\n",
       "</table>\n",
       "<p>3002 rows × 6 columns</p>\n",
       "</div>"
      ],
      "text/plain": [
       "                            Operador Concesion  Periodo  Codtit  \\\n",
       "0                         EMT MADRID        97  09/2023    8196   \n",
       "1                         EMT MADRID       NaN  09/2023    4179   \n",
       "2            NEXCONTINENTAL HOLDINGS  URCM-148  09/2023    8213   \n",
       "3     AVANZA MOVILIDAD INTEGRAL S.L.   VCM-601  09/2023    4099   \n",
       "4            NEXCONTINENTAL HOLDINGS   VCM-202  09/2023    4181   \n",
       "...                              ...       ...      ...     ...   \n",
       "2997         NEXCONTINENTAL HOLDINGS         -  09/2023    9482   \n",
       "2998                 METRO DE MADRID       NaN  09/2023    9513   \n",
       "2999                 METRO DE MADRID       NaN  09/2023    4691   \n",
       "3000                          T.F.M.       NaN  09/2023    4131   \n",
       "3001                 CERCANIAS RENFE       NaN  09/2023    4182   \n",
       "\n",
       "                            Titulo  Subidos  \n",
       "0               METROBUS 10 VIAJES  3824159  \n",
       "1         ABONO ANUAL TERCERA EDAD      647  \n",
       "2                BONOBUS URBANO B2    35319  \n",
       "3                  30 DIAS ZONA B2   365982  \n",
       "4     ABONO 30 DIAS JOVEN T. PLANA   409492  \n",
       "...                            ...      ...  \n",
       "2997           SENCILLO ZONA B2-B3        7  \n",
       "2998            SENCILLO COMBINADO    53626  \n",
       "2999      ABONO ANUAL TERCERA EDAD        2  \n",
       "3000             TURISTICO T 1 DIA        8  \n",
       "3001    ABONO ANUAL JOVEN T. PLANA      965  \n",
       "\n",
       "[3002 rows x 6 columns]"
      ]
     },
     "execution_count": 12,
     "metadata": {},
     "output_type": "execute_result"
    }
   ],
   "source": [
    "datos_bit"
   ]
  },
  {
   "cell_type": "code",
   "execution_count": 13,
   "metadata": {},
   "outputs": [
    {
     "name": "stdout",
     "output_type": "stream",
     "text": [
      "datos_base:  Index(['Idconce', 'Fecha', 'Nexpe', 'Kms', 'Sencillo', 'Indicencia',\n",
      "       'Gratuitos', 'Recargo', 'Bonobus', 'Abottes', 'Pmun', 'Otros', 'Valman',\n",
      "       'Total', 'Ingsencillo', 'Ingrecargo', 'Ingtotal', 'Fichero',\n",
      "       'Fecha Proc'],\n",
      "      dtype='object') (42, 19)\n",
      "datos_via:  Index(['CONCESION', 'FECHA', 'NULINUSER', 'SUBLINEA', 'CODTIT', 'TITULO',\n",
      "       'IDCODIGOPERFIL', 'CODDES', 'DESCUENTO', 'VALIDACIONES', 'FICHERO',\n",
      "       'F_PROCESO'],\n",
      "      dtype='object') (760665, 12)\n",
      "datos_bit:  Index(['Operador', 'Concesion', 'Periodo', 'Codtit', 'Titulo', 'Subidos'], dtype='object') (3002, 6)\n",
      "datos_vac_app:  Index(['Tipo', 'Empresa', 'Concesión/Linea', 'Titulo', 'Dscr Título', 'Fecha',\n",
      "       'Hora', 'Zona Validación', 'Validaciones'],\n",
      "      dtype='object') (149352, 9)\n",
      "datos_vac_val:  Index(['Empresa', 'Fecha', 'Concesion', 'L Gestra', 'Desclinea', 'P Gestra',\n",
      "       'Descparada', 'Corona', 'Codtit', 'Titulo', 'Validaciones'],\n",
      "      dtype='object') (21172, 11)\n",
      "name_datos_via_cols_OK:  ['CONCESION', 'FECHA', 'NULINUSER', 'SUBLINEA', 'CODTIT', 'TITULO', 'IDCODIGOPERFIL', 'CODDES', 'DESCUENTO', 'VALIDACIONES', 'FICHERO', 'F_PROCESO']\n",
      "name_datos_bit_cols_OK:  ['OPERADOR', 'CONCESION', 'PERIODO', 'CODTIT', 'TITULO', 'SUBIDOS']\n",
      "name_datos_vac_app_cols_OK:  ['TIPO', 'EMPRESA', 'CONCESION/LINEA', 'TITULO', 'DSCR TITULO', 'FECHA', 'HORA', 'ZONA VALIDACION', 'VALIDACIONES']\n",
      "name_datos_vac_val_cols_OK:  ['EMPRESA', 'FECHA', 'CONCESION', 'L GESTRA', 'DESCLINEA', 'P GESTRA', 'DESCPARADA', 'CORONA', 'CODTIT', 'TITULO', 'VALIDACIONES']\n"
     ]
    }
   ],
   "source": [
    "## NOMBRES COLUMNAS ARCHIVO ACTUAL\n",
    "print(\"datos_base: \",datos_base.columns, datos_base.shape)\n",
    "print(\"datos_via: \",datos_via.columns, datos_via.shape)\n",
    "print(\"datos_bit: \",datos_bit.columns, datos_bit.shape)\n",
    "print(\"datos_vac_app: \",datos_vac_app.columns, datos_vac_app.shape)\n",
    "print(\"datos_vac_val: \",datos_vac_val.columns, datos_vac_val.shape)\n",
    "## NOMBRES COLUMNAS ESTANDAR\n",
    "a,b = 'ÁÉÍÓÚÄËÏÖÜ', 'AEIOUAEIOU'\n",
    "trans = str.maketrans(a,b)\n",
    "name_datos_via_cols_OK = [column_name.upper().translate(trans) for column_name in name_datos_via_cols]\n",
    "name_datos_bit_cols_OK = [column_name.upper().translate(trans) for column_name in name_datos_bit_cols]\n",
    "name_datos_vac_app_cols_OK = [column_name.upper().translate(trans) for column_name in name_datos_vac_app_cols]\n",
    "name_datos_vac_val_cols_OK = [column_name.upper().translate(trans) for column_name in name_datos_vac_val_cols]\n",
    "\n",
    "print(\"name_datos_via_cols_OK: \",name_datos_via_cols_OK)\n",
    "print(\"name_datos_bit_cols_OK: \",name_datos_bit_cols_OK)\n",
    "print(\"name_datos_vac_app_cols_OK: \",name_datos_vac_app_cols_OK)\n",
    "print(\"name_datos_vac_val_cols_OK: \",name_datos_vac_val_cols_OK)"
   ]
  },
  {
   "cell_type": "markdown",
   "metadata": {},
   "source": [
    "## Comprobamos los nombres de las columnas\n",
    "Para procesarse tienen que coincidir con los estandar (como los del mes 08/2023).\n",
    "\n",
    "- datos_base:  Index(['Idconce', 'Fecha', 'Nexpe', 'Kms', 'Sencillo', 'Indicencia',\n",
    "       'Gratuitos', 'Recargo', 'Bonobus', 'Abottes', 'Pmun', 'Otros', 'Valman',\n",
    "       'Total', 'Ingsencillo', 'Ingrecargo', 'Ingtotal', 'Fichero',\n",
    "       'Fecha Proc'],\n",
    "      dtype='object') (42, 19)\n",
    "- datos_via:  Index(['CONCESION', 'FECHA', 'NULINUSER', 'SUBLINEA', 'CODTIT', 'TITULO',\n",
    "       'IDCODIGOPERFIL', 'CODDES', 'DESCUENTO', 'VALIDACIONES', 'FICHERO',\n",
    "       'F_PROCESO'],\n",
    "      dtype='object') (760665, 12)\n",
    "- datos_bit:  Index(['Operador', 'Concesion', 'Periodo', 'Codtit', 'Titulo', 'Subidos'], dtype='object') (3002, 6)\n",
    "- datos_vac_app:  Index(['Tipo', 'Empresa', 'Concesión/Linea', 'Titulo', 'Dscr Título', 'Fecha',\n",
    "       'Hora', 'Zona Validación', 'Validaciones'],\n",
    "      dtype='object') (149352, 9)\n",
    "datos_vac_val:  Index(['Empresa', 'Fecha', 'Concesion', 'L Gestra', 'Desclinea', 'P Gestra',\n",
    "       'Descparada', 'Corona', 'Codtit', 'Titulo', 'Validaciones'],\n",
    "      dtype='object') (21172, 11)"
   ]
  },
  {
   "cell_type": "markdown",
   "metadata": {},
   "source": [
    "###### Comprobacion previa"
   ]
  },
  {
   "cell_type": "code",
   "execution_count": 14,
   "metadata": {},
   "outputs": [],
   "source": [
    "def estandarizar_nombres_columnas(datos_via, datos_bit, datos_vac_app, datos_vac_val):\n",
    "    ## pasarlos a mayusculas y quitar acentos y espacios laterales. \n",
    "    ## sustituir espacios intermedios por _\n",
    "    a,b = 'ÁÉÍÓÚÄËÏÖÜ', 'AEIOUAEIOU'\n",
    "    trans = str.maketrans(a,b)\n",
    "    datos_via_cols = [column_name.upper().translate(trans) for column_name in datos_via.columns]\n",
    "    datos_bit_cols = [column_name.upper().translate(trans) for column_name in datos_bit.columns]\n",
    "    datos_vac_app_cols = [column_name.upper().translate(trans) for column_name in datos_vac_app.columns]\n",
    "    datos_vac_val_cols = [column_name.upper().translate(trans) for column_name in datos_vac_val.columns]\n",
    "    return datos_via_cols, datos_bit_cols, datos_vac_app_cols, datos_vac_val_cols\n",
    "\n",
    "def comprobar_nombres_columnas(datos_via, datos_bit, datos_vac_app, datos_vac_val):\n",
    "    # name_datos_via_cols_OK, name_datos_bit_cols_OK, name_datos_vac_app_cols_OK, name_datos_vac_val_cols_OK\n",
    "    datos_via_cols, datos_bit_cols, datos_vac_app_cols, datos_vac_val_cols = estandarizar_nombres_columnas(datos_via, datos_bit, datos_vac_app, datos_vac_val)\n",
    "    print(\"COMPROBANDO LAS DIFERENCIAS ENTRE LAS COLUMNAS: \")\n",
    "    print(\"__________________________________________________________\\n\")\n",
    "    cols_data_via = [col for col in datos_via_cols if col not in name_datos_via_cols_OK]\n",
    "    if cols_data_via == []:\n",
    "        print(\"CORRECTO, LOS CAMPOS DE LAS COLUMNAS DEL datos_via COINCIDEN.\")\n",
    "    else:\n",
    "        print(\"CORREGIR CAMPOS datos_via: \")\n",
    "        print(\"Su fichero contiene las columnas: \", datos_via.columns)\n",
    "        print(\"El fichero deseado contiene las columnas: \", name_datos_via_cols)\n",
    "        print(\"Corrija las siguientes columnas: \", cols_data_via)\n",
    "    print(\"__________________________________________________________\\n\")\n",
    "    cols_data_bit = [col for col in datos_bit_cols if col not in name_datos_bit_cols_OK]\n",
    "    if cols_data_bit == []:\n",
    "        print(\"CORRECTO, LOS CAMPOS DE LAS COLUMNAS DEL datos_bit COINCIDEN.\")\n",
    "    else:\n",
    "        print(\"CORREGIR CAMPOS cols_data_bit: \")\n",
    "        print(\"Su fichero contiene las columnas: \", datos_bit.columns)\n",
    "        print(\"El fichero deseado contiene las columnas: \", name_datos_bit_cols)\n",
    "        print(\"Corrija las siguientes columnas: \", cols_data_bit)\n",
    "    print(\"__________________________________________________________\\n\")\n",
    "    cols_data_vac_app = [col for col in datos_vac_app_cols if col not in name_datos_vac_app_cols_OK]\n",
    "    if cols_data_vac_app == []:\n",
    "        print(\"CORRECTO, LOS CAMPOS DE LAS COLUMNAS DEL datos_vac_app COINCIDEN.\")\n",
    "    else:\n",
    "        print(\"CORREGIR CAMPOS datos_vac_app: \")\n",
    "        print(\"Su fichero contiene las columnas: \", datos_vac_app.columns)\n",
    "        print(\"El fichero deseado contiene las columnas: \", name_datos_vac_app_cols)\n",
    "        print(\"Corrija las siguientes columnas: \", cols_data_vac_app)\n",
    "    print(\"__________________________________________________________\\n\")\n",
    "    cols_data_vac_val = [col for col in datos_vac_val_cols if col not in name_datos_vac_val_cols_OK]\n",
    "    if cols_data_vac_val == []:\n",
    "        print(\"CORRECTO, LOS CAMPOS DE LAS COLUMNAS DEL datos_vac_val COINCIDEN.\")\n",
    "    else:\n",
    "        print(\"CORREGIR CAMPOS datos_vac_val: \")\n",
    "        print(\"Su fichero contiene las columnas: \", datos_vac_val.columns)\n",
    "        print(\"El fichero deseado contiene las columnas: \", name_datos_vac_val_cols)\n",
    "        print(\"Corrija las siguientes columnas: \", cols_data_vac_val)\n"
   ]
  },
  {
   "cell_type": "code",
   "execution_count": 15,
   "metadata": {},
   "outputs": [
    {
     "name": "stdout",
     "output_type": "stream",
     "text": [
      "COMPROBANDO LAS DIFERENCIAS ENTRE LAS COLUMNAS: \n",
      "__________________________________________________________\n",
      "\n",
      "CORRECTO, LOS CAMPOS DE LAS COLUMNAS DEL datos_via COINCIDEN.\n",
      "__________________________________________________________\n",
      "\n",
      "CORRECTO, LOS CAMPOS DE LAS COLUMNAS DEL datos_bit COINCIDEN.\n",
      "__________________________________________________________\n",
      "\n",
      "CORRECTO, LOS CAMPOS DE LAS COLUMNAS DEL datos_vac_app COINCIDEN.\n",
      "__________________________________________________________\n",
      "\n",
      "CORRECTO, LOS CAMPOS DE LAS COLUMNAS DEL datos_vac_val COINCIDEN.\n"
     ]
    }
   ],
   "source": [
    "comprobar_nombres_columnas(datos_via, datos_bit, datos_vac_app, datos_vac_val)"
   ]
  },
  {
   "cell_type": "markdown",
   "metadata": {},
   "source": [
    "## Procesamos el VAC"
   ]
  },
  {
   "cell_type": "markdown",
   "metadata": {},
   "source": [
    "#### Procesamos el datos_vac_val"
   ]
  },
  {
   "cell_type": "code",
   "execution_count": 16,
   "metadata": {},
   "outputs": [],
   "source": [
    "day_datos_vac_val_export = datos_vac_val.groupby([\"Concesion\", \"Fecha\", \"Codtit\"])[\"Validaciones\"].sum().reset_index(name=\"Total_VAC\")"
   ]
  },
  {
   "cell_type": "code",
   "execution_count": 17,
   "metadata": {},
   "outputs": [],
   "source": [
    "## Comprobacion de que funciona\n",
    "# '''\n",
    "# ['Empresa', 'Fecha', 'Concesion', 'L Gestra', 'Desclinea', 'P Gestra',\n",
    "#        'Descparada', 'Corona', 'Codtit', 'Titulo', 'Validaciones']\n",
    "# '''\n",
    "# datos_vac_val[(datos_vac_val[\"Concesion\"]==\"V5805\") & (datos_vac_val[\"Fecha\"]==\"2023-09-01\") & (datos_vac_val[\"Codtit\"]==4104)]\n",
    "\n",
    "# day_datos_vac_val_export"
   ]
  },
  {
   "cell_type": "markdown",
   "metadata": {},
   "source": [
    "#### Procesamos el datos_vac_app"
   ]
  },
  {
   "cell_type": "code",
   "execution_count": 18,
   "metadata": {},
   "outputs": [],
   "source": [
    "day_datos_vac_app_export = datos_vac_app.groupby([\"Concesión/Linea\", \"Fecha\", \"Titulo\"])[\"Validaciones\"].sum().reset_index(name=\"Total_VAC\")\n",
    "day_datos_vac_app_export.rename({\"Concesión/Linea\":\"Concesion\", \"Titulo\":\"Codtit\"}, axis=1, inplace=True)"
   ]
  },
  {
   "cell_type": "code",
   "execution_count": 19,
   "metadata": {},
   "outputs": [
    {
     "data": {
      "text/html": [
       "<div>\n",
       "<style scoped>\n",
       "    .dataframe tbody tr th:only-of-type {\n",
       "        vertical-align: middle;\n",
       "    }\n",
       "\n",
       "    .dataframe tbody tr th {\n",
       "        vertical-align: top;\n",
       "    }\n",
       "\n",
       "    .dataframe thead th {\n",
       "        text-align: right;\n",
       "    }\n",
       "</style>\n",
       "<table border=\"1\" class=\"dataframe\">\n",
       "  <thead>\n",
       "    <tr style=\"text-align: right;\">\n",
       "      <th></th>\n",
       "      <th>Concesion</th>\n",
       "      <th>Fecha</th>\n",
       "      <th>Codtit</th>\n",
       "      <th>Total_VAC</th>\n",
       "    </tr>\n",
       "  </thead>\n",
       "  <tbody>\n",
       "    <tr>\n",
       "      <th>0</th>\n",
       "      <td>VAC-051</td>\n",
       "      <td>2023-09-01</td>\n",
       "      <td>4105</td>\n",
       "      <td>31</td>\n",
       "    </tr>\n",
       "    <tr>\n",
       "      <th>1</th>\n",
       "      <td>VAC-051</td>\n",
       "      <td>2023-09-01</td>\n",
       "      <td>4181</td>\n",
       "      <td>78</td>\n",
       "    </tr>\n",
       "    <tr>\n",
       "      <th>2</th>\n",
       "      <td>VAC-051</td>\n",
       "      <td>2023-09-02</td>\n",
       "      <td>4105</td>\n",
       "      <td>15</td>\n",
       "    </tr>\n",
       "    <tr>\n",
       "      <th>3</th>\n",
       "      <td>VAC-051</td>\n",
       "      <td>2023-09-02</td>\n",
       "      <td>4181</td>\n",
       "      <td>68</td>\n",
       "    </tr>\n",
       "    <tr>\n",
       "      <th>4</th>\n",
       "      <td>VAC-051</td>\n",
       "      <td>2023-09-03</td>\n",
       "      <td>4105</td>\n",
       "      <td>18</td>\n",
       "    </tr>\n",
       "    <tr>\n",
       "      <th>...</th>\n",
       "      <td>...</td>\n",
       "      <td>...</td>\n",
       "      <td>...</td>\n",
       "      <td>...</td>\n",
       "    </tr>\n",
       "    <tr>\n",
       "      <th>1791</th>\n",
       "      <td>VAC-249</td>\n",
       "      <td>2023-09-26</td>\n",
       "      <td>4147</td>\n",
       "      <td>1</td>\n",
       "    </tr>\n",
       "    <tr>\n",
       "      <th>1792</th>\n",
       "      <td>VAC-249</td>\n",
       "      <td>2023-09-26</td>\n",
       "      <td>4181</td>\n",
       "      <td>3</td>\n",
       "    </tr>\n",
       "    <tr>\n",
       "      <th>1793</th>\n",
       "      <td>VAC-249</td>\n",
       "      <td>2023-09-26</td>\n",
       "      <td>4706</td>\n",
       "      <td>3</td>\n",
       "    </tr>\n",
       "    <tr>\n",
       "      <th>1794</th>\n",
       "      <td>VAC-249</td>\n",
       "      <td>2023-09-27</td>\n",
       "      <td>4181</td>\n",
       "      <td>1</td>\n",
       "    </tr>\n",
       "    <tr>\n",
       "      <th>1795</th>\n",
       "      <td>VAC-249</td>\n",
       "      <td>2023-09-30</td>\n",
       "      <td>4181</td>\n",
       "      <td>3</td>\n",
       "    </tr>\n",
       "  </tbody>\n",
       "</table>\n",
       "<p>1796 rows × 4 columns</p>\n",
       "</div>"
      ],
      "text/plain": [
       "     Concesion      Fecha  Codtit  Total_VAC\n",
       "0      VAC-051 2023-09-01    4105         31\n",
       "1      VAC-051 2023-09-01    4181         78\n",
       "2      VAC-051 2023-09-02    4105         15\n",
       "3      VAC-051 2023-09-02    4181         68\n",
       "4      VAC-051 2023-09-03    4105         18\n",
       "...        ...        ...     ...        ...\n",
       "1791   VAC-249 2023-09-26    4147          1\n",
       "1792   VAC-249 2023-09-26    4181          3\n",
       "1793   VAC-249 2023-09-26    4706          3\n",
       "1794   VAC-249 2023-09-27    4181          1\n",
       "1795   VAC-249 2023-09-30    4181          3\n",
       "\n",
       "[1796 rows x 4 columns]"
      ]
     },
     "execution_count": 19,
     "metadata": {},
     "output_type": "execute_result"
    }
   ],
   "source": [
    "## Comprobacion de que funciona\n",
    "# '''\n",
    "# ['Empresa', 'Fecha', 'Concesion', 'L Gestra', 'Desclinea', 'P Gestra',\n",
    "#        'Descparada', 'Corona', 'Codtit', 'Titulo', 'Validaciones']\n",
    "# '''\n",
    "# datos_vac_val[(datos_vac_val[\"Concesion\"]==\"V5805\") & (datos_vac_val[\"Fecha\"]==\"2023-09-01\") & (datos_vac_val[\"Codtit\"]==4104)]\n",
    "\n",
    "day_datos_vac_app_export"
   ]
  },
  {
   "cell_type": "code",
   "execution_count": 20,
   "metadata": {},
   "outputs": [
    {
     "name": "stdout",
     "output_type": "stream",
     "text": [
      "columnas datos_vac_app Index(['Concesion', 'Fecha', 'Codtit', 'Total_VAC'], dtype='object')\n",
      "columnas datos_vac_val Index(['Concesion', 'Fecha', 'Codtit', 'Total_VAC'], dtype='object')\n"
     ]
    }
   ],
   "source": [
    "print(\"columnas datos_vac_app\",day_datos_vac_app_export.columns)\n",
    "print(\"columnas datos_vac_val\",day_datos_vac_val_export.columns)"
   ]
  },
  {
   "cell_type": "code",
   "execution_count": 21,
   "metadata": {},
   "outputs": [],
   "source": [
    "day_datos_vac_export = pd.concat([day_datos_vac_val_export, day_datos_vac_app_export], axis=0)\n",
    "# day_datos_vac_export"
   ]
  },
  {
   "cell_type": "code",
   "execution_count": 22,
   "metadata": {},
   "outputs": [],
   "source": [
    "month_datos_vac_export = day_datos_vac_export\n",
    "## sustituyo la fecha a mes\n",
    "if month_datos_vac_export.Fecha.dtypes == \"datetime64[ns]\":\n",
    "    month_datos_vac_export.Fecha = day_datos_vac_export.Fecha.dt.to_period(\"M\")\n",
    "## agrupo por mes y hago la suma total de los totales"
   ]
  },
  {
   "cell_type": "code",
   "execution_count": 23,
   "metadata": {},
   "outputs": [],
   "source": [
    "month_datos_vac_export = month_datos_vac_export.groupby([\"Concesion\", \"Fecha\"])[\"Total_VAC\"].sum().reset_index(name=\"Total_VAC\")\n",
    "# month_datos_vac_export"
   ]
  },
  {
   "cell_type": "code",
   "execution_count": 24,
   "metadata": {},
   "outputs": [
    {
     "data": {
      "text/html": [
       "<div>\n",
       "<style scoped>\n",
       "    .dataframe tbody tr th:only-of-type {\n",
       "        vertical-align: middle;\n",
       "    }\n",
       "\n",
       "    .dataframe tbody tr th {\n",
       "        vertical-align: top;\n",
       "    }\n",
       "\n",
       "    .dataframe thead th {\n",
       "        text-align: right;\n",
       "    }\n",
       "</style>\n",
       "<table border=\"1\" class=\"dataframe\">\n",
       "  <thead>\n",
       "    <tr style=\"text-align: right;\">\n",
       "      <th></th>\n",
       "      <th>Concesion</th>\n",
       "      <th>Fecha</th>\n",
       "      <th>Total_VAC</th>\n",
       "    </tr>\n",
       "  </thead>\n",
       "  <tbody>\n",
       "    <tr>\n",
       "      <th>0</th>\n",
       "      <td>V5805</td>\n",
       "      <td>2023-09</td>\n",
       "      <td>9970</td>\n",
       "    </tr>\n",
       "    <tr>\n",
       "      <th>1</th>\n",
       "      <td>VAC-023</td>\n",
       "      <td>2023-09</td>\n",
       "      <td>105980</td>\n",
       "    </tr>\n",
       "    <tr>\n",
       "      <th>2</th>\n",
       "      <td>VAC-051</td>\n",
       "      <td>2023-09</td>\n",
       "      <td>4694</td>\n",
       "    </tr>\n",
       "    <tr>\n",
       "      <th>3</th>\n",
       "      <td>VAC-063</td>\n",
       "      <td>2023-09</td>\n",
       "      <td>37191</td>\n",
       "    </tr>\n",
       "    <tr>\n",
       "      <th>4</th>\n",
       "      <td>VAC-082</td>\n",
       "      <td>2023-09</td>\n",
       "      <td>25913</td>\n",
       "    </tr>\n",
       "    <tr>\n",
       "      <th>5</th>\n",
       "      <td>VAC-087</td>\n",
       "      <td>2023-09</td>\n",
       "      <td>33305</td>\n",
       "    </tr>\n",
       "    <tr>\n",
       "      <th>6</th>\n",
       "      <td>VAC-093</td>\n",
       "      <td>2023-09</td>\n",
       "      <td>1783</td>\n",
       "    </tr>\n",
       "    <tr>\n",
       "      <th>7</th>\n",
       "      <td>VAC-152</td>\n",
       "      <td>2023-09</td>\n",
       "      <td>15312</td>\n",
       "    </tr>\n",
       "    <tr>\n",
       "      <th>8</th>\n",
       "      <td>VAC-158</td>\n",
       "      <td>2023-09</td>\n",
       "      <td>56814</td>\n",
       "    </tr>\n",
       "    <tr>\n",
       "      <th>9</th>\n",
       "      <td>VAC-221</td>\n",
       "      <td>2023-09</td>\n",
       "      <td>158</td>\n",
       "    </tr>\n",
       "    <tr>\n",
       "      <th>10</th>\n",
       "      <td>VAC-226</td>\n",
       "      <td>2023-09</td>\n",
       "      <td>925</td>\n",
       "    </tr>\n",
       "    <tr>\n",
       "      <th>11</th>\n",
       "      <td>VAC-231</td>\n",
       "      <td>2023-09</td>\n",
       "      <td>66827</td>\n",
       "    </tr>\n",
       "    <tr>\n",
       "      <th>12</th>\n",
       "      <td>VAC-243</td>\n",
       "      <td>2023-09</td>\n",
       "      <td>53472</td>\n",
       "    </tr>\n",
       "    <tr>\n",
       "      <th>13</th>\n",
       "      <td>VAC-249</td>\n",
       "      <td>2023-09</td>\n",
       "      <td>95</td>\n",
       "    </tr>\n",
       "  </tbody>\n",
       "</table>\n",
       "</div>"
      ],
      "text/plain": [
       "   Concesion    Fecha  Total_VAC\n",
       "0      V5805  2023-09       9970\n",
       "1    VAC-023  2023-09     105980\n",
       "2    VAC-051  2023-09       4694\n",
       "3    VAC-063  2023-09      37191\n",
       "4    VAC-082  2023-09      25913\n",
       "5    VAC-087  2023-09      33305\n",
       "6    VAC-093  2023-09       1783\n",
       "7    VAC-152  2023-09      15312\n",
       "8    VAC-158  2023-09      56814\n",
       "9    VAC-221  2023-09        158\n",
       "10   VAC-226  2023-09        925\n",
       "11   VAC-231  2023-09      66827\n",
       "12   VAC-243  2023-09      53472\n",
       "13   VAC-249  2023-09         95"
      ]
     },
     "execution_count": 24,
     "metadata": {},
     "output_type": "execute_result"
    }
   ],
   "source": [
    "month_datos_vac_export"
   ]
  },
  {
   "cell_type": "code",
   "execution_count": 25,
   "metadata": {},
   "outputs": [],
   "source": [
    "# datos_vac_export.to_excel(\"./2023-09/2023-09Vac_export.xlsx\", index=False)"
   ]
  },
  {
   "cell_type": "markdown",
   "metadata": {},
   "source": [
    "## Procesamos el BIT"
   ]
  },
  {
   "cell_type": "code",
   "execution_count": 26,
   "metadata": {},
   "outputs": [],
   "source": [
    "month_datos_bit_export = datos_bit.groupby([\"Concesion\", \"Periodo\", \"Codtit\"])[\"Subidos\"].sum().reset_index(name=\"Total_BIT\")"
   ]
  },
  {
   "cell_type": "code",
   "execution_count": 27,
   "metadata": {},
   "outputs": [],
   "source": [
    "# month_datos_bit_export"
   ]
  },
  {
   "cell_type": "code",
   "execution_count": 28,
   "metadata": {},
   "outputs": [
    {
     "data": {
      "text/plain": [
       "Index(['Concesion', 'Periodo', 'Codtit', 'Total_BIT'], dtype='object')"
      ]
     },
     "execution_count": 28,
     "metadata": {},
     "output_type": "execute_result"
    }
   ],
   "source": [
    "month_datos_bit_export.Periodo = pd.to_datetime(month_datos_bit_export.Periodo, format=\"%m/%Y\")\n",
    "if month_datos_bit_export.Periodo.dtypes == \"datetime64[ns]\":\n",
    "    month_datos_bit_export.Periodo = month_datos_bit_export.Periodo.dt.to_period(\"M\")\n",
    "month_datos_bit_export.columns"
   ]
  },
  {
   "cell_type": "code",
   "execution_count": 29,
   "metadata": {},
   "outputs": [],
   "source": [
    "month_datos_bit_export = month_datos_bit_export.groupby([\"Concesion\", \"Periodo\"])[\"Total_BIT\"].sum().reset_index(name=\"Total_BIT\")\n",
    "# month_datos_bit_export"
   ]
  },
  {
   "cell_type": "markdown",
   "metadata": {},
   "source": [
    "## Procesamos el VIA"
   ]
  },
  {
   "cell_type": "code",
   "execution_count": 30,
   "metadata": {},
   "outputs": [],
   "source": [
    "day_datos_via_export = datos_via.groupby([\"CONCESION\", \"FECHA\", \"CODTIT\"])[\"VALIDACIONES\"].sum().reset_index(name=\"Total_VIA\")"
   ]
  },
  {
   "cell_type": "code",
   "execution_count": 31,
   "metadata": {},
   "outputs": [],
   "source": [
    "day_datos_via_export.FECHA = pd.to_datetime(day_datos_via_export.FECHA, format=\"%d/%m/%Y\")\n",
    "month_datos_via_export = day_datos_via_export\n",
    "## sustituyo la fecha a mes\n",
    "if month_datos_via_export.FECHA.dtypes == \"datetime64[ns]\":\n",
    "    month_datos_via_export.FECHA = pd.to_datetime(month_datos_via_export.FECHA)\n",
    "    month_datos_via_export.FECHA = day_datos_via_export.FECHA.dt.to_period(\"M\")\n",
    "## agrupo por mes y hago la suma total de los totales"
   ]
  },
  {
   "cell_type": "code",
   "execution_count": 32,
   "metadata": {},
   "outputs": [],
   "source": [
    "month_datos_via_export = month_datos_via_export.groupby([\"CONCESION\", \"FECHA\"])[\"Total_VIA\"].sum().reset_index(name=\"Total_VIA\")\n",
    "# month_datos_via_export"
   ]
  },
  {
   "cell_type": "markdown",
   "metadata": {},
   "source": [
    "## Datos Base"
   ]
  },
  {
   "cell_type": "code",
   "execution_count": 33,
   "metadata": {},
   "outputs": [
    {
     "data": {
      "text/plain": [
       "Index(['Idconce', 'Fecha', 'Nexpe', 'Kms', 'Sencillo', 'Indicencia',\n",
       "       'Gratuitos', 'Recargo', 'Bonobus', 'Abottes', 'Pmun', 'Otros', 'Valman',\n",
       "       'Total', 'Ingsencillo', 'Ingrecargo', 'Ingtotal', 'Fichero',\n",
       "       'Fecha Proc'],\n",
       "      dtype='object')"
      ]
     },
     "execution_count": 33,
     "metadata": {},
     "output_type": "execute_result"
    }
   ],
   "source": [
    "datos_base.columns"
   ]
  },
  {
   "cell_type": "code",
   "execution_count": 34,
   "metadata": {},
   "outputs": [
    {
     "name": "stderr",
     "output_type": "stream",
     "text": [
      "C:\\Users\\ray\\AppData\\Local\\Temp\\ipykernel_23900\\1141183840.py:3: SettingWithCopyWarning: \n",
      "A value is trying to be set on a copy of a slice from a DataFrame\n",
      "\n",
      "See the caveats in the documentation: https://pandas.pydata.org/pandas-docs/stable/user_guide/indexing.html#returning-a-view-versus-a-copy\n",
      "  datos_base_ok.rename(columns={\"Total\":\"Total_BASE\"}, inplace=True)\n"
     ]
    }
   ],
   "source": [
    "datos_base.rename(columns={\"Idconce\":\"Concesion\",\"Fecha\":\"Mes\"}, inplace=True, errors=\"raise\")\n",
    "datos_base_ok = datos_base[[\"Concesion\",\"Mes\",\"Total\"]]\n",
    "datos_base_ok.rename(columns={\"Total\":\"Total_BASE\"}, inplace=True)\n"
   ]
  },
  {
   "cell_type": "code",
   "execution_count": 35,
   "metadata": {},
   "outputs": [
    {
     "data": {
      "text/html": [
       "<div>\n",
       "<style scoped>\n",
       "    .dataframe tbody tr th:only-of-type {\n",
       "        vertical-align: middle;\n",
       "    }\n",
       "\n",
       "    .dataframe tbody tr th {\n",
       "        vertical-align: top;\n",
       "    }\n",
       "\n",
       "    .dataframe thead th {\n",
       "        text-align: right;\n",
       "    }\n",
       "</style>\n",
       "<table border=\"1\" class=\"dataframe\">\n",
       "  <thead>\n",
       "    <tr style=\"text-align: right;\">\n",
       "      <th></th>\n",
       "      <th>Concesion</th>\n",
       "      <th>Mes</th>\n",
       "      <th>Total_BASE</th>\n",
       "    </tr>\n",
       "  </thead>\n",
       "  <tbody>\n",
       "    <tr>\n",
       "      <th>0</th>\n",
       "      <td>URCM-005</td>\n",
       "      <td>09/2023</td>\n",
       "      <td>1054290</td>\n",
       "    </tr>\n",
       "    <tr>\n",
       "      <th>1</th>\n",
       "      <td>URCM-013</td>\n",
       "      <td>09/2023</td>\n",
       "      <td>252318</td>\n",
       "    </tr>\n",
       "    <tr>\n",
       "      <th>2</th>\n",
       "      <td>URCM-014</td>\n",
       "      <td>09/2023</td>\n",
       "      <td>117990</td>\n",
       "    </tr>\n",
       "    <tr>\n",
       "      <th>3</th>\n",
       "      <td>URCM-148</td>\n",
       "      <td>09/2023</td>\n",
       "      <td>505390</td>\n",
       "    </tr>\n",
       "    <tr>\n",
       "      <th>4</th>\n",
       "      <td>URCM-152</td>\n",
       "      <td>09/2023</td>\n",
       "      <td>55576</td>\n",
       "    </tr>\n",
       "    <tr>\n",
       "      <th>5</th>\n",
       "      <td>URCM-161</td>\n",
       "      <td>09/2023</td>\n",
       "      <td>413835</td>\n",
       "    </tr>\n",
       "    <tr>\n",
       "      <th>6</th>\n",
       "      <td>VAC-023</td>\n",
       "      <td>09/2023</td>\n",
       "      <td>107516</td>\n",
       "    </tr>\n",
       "    <tr>\n",
       "      <th>7</th>\n",
       "      <td>VAC-082</td>\n",
       "      <td>09/2023</td>\n",
       "      <td>26242</td>\n",
       "    </tr>\n",
       "    <tr>\n",
       "      <th>8</th>\n",
       "      <td>VAC-226</td>\n",
       "      <td>09/2023</td>\n",
       "      <td>1348</td>\n",
       "    </tr>\n",
       "    <tr>\n",
       "      <th>9</th>\n",
       "      <td>VAC-231</td>\n",
       "      <td>09/2023</td>\n",
       "      <td>66699</td>\n",
       "    </tr>\n",
       "    <tr>\n",
       "      <th>10</th>\n",
       "      <td>VAC-243</td>\n",
       "      <td>09/2023</td>\n",
       "      <td>53506</td>\n",
       "    </tr>\n",
       "    <tr>\n",
       "      <th>11</th>\n",
       "      <td>VCM-101</td>\n",
       "      <td>09/2023</td>\n",
       "      <td>1317462</td>\n",
       "    </tr>\n",
       "    <tr>\n",
       "      <th>12</th>\n",
       "      <td>VCM-102</td>\n",
       "      <td>09/2023</td>\n",
       "      <td>136024</td>\n",
       "    </tr>\n",
       "    <tr>\n",
       "      <th>13</th>\n",
       "      <td>VCM-103</td>\n",
       "      <td>09/2023</td>\n",
       "      <td>391041</td>\n",
       "    </tr>\n",
       "    <tr>\n",
       "      <th>14</th>\n",
       "      <td>VCM-200</td>\n",
       "      <td>09/2023</td>\n",
       "      <td>248875</td>\n",
       "    </tr>\n",
       "    <tr>\n",
       "      <th>15</th>\n",
       "      <td>VCM-201</td>\n",
       "      <td>09/2023</td>\n",
       "      <td>939016</td>\n",
       "    </tr>\n",
       "    <tr>\n",
       "      <th>16</th>\n",
       "      <td>VCM-202</td>\n",
       "      <td>09/2023</td>\n",
       "      <td>1202659</td>\n",
       "    </tr>\n",
       "    <tr>\n",
       "      <th>17</th>\n",
       "      <td>VCM-203</td>\n",
       "      <td>09/2023</td>\n",
       "      <td>472570</td>\n",
       "    </tr>\n",
       "    <tr>\n",
       "      <th>18</th>\n",
       "      <td>VCM-204</td>\n",
       "      <td>09/2023</td>\n",
       "      <td>37250</td>\n",
       "    </tr>\n",
       "    <tr>\n",
       "      <th>19</th>\n",
       "      <td>VCM-301</td>\n",
       "      <td>09/2023</td>\n",
       "      <td>999588</td>\n",
       "    </tr>\n",
       "    <tr>\n",
       "      <th>20</th>\n",
       "      <td>VCM-302</td>\n",
       "      <td>09/2023</td>\n",
       "      <td>332836</td>\n",
       "    </tr>\n",
       "    <tr>\n",
       "      <th>21</th>\n",
       "      <td>VCM-303</td>\n",
       "      <td>09/2023</td>\n",
       "      <td>88289</td>\n",
       "    </tr>\n",
       "    <tr>\n",
       "      <th>22</th>\n",
       "      <td>VCM-401</td>\n",
       "      <td>09/2023</td>\n",
       "      <td>744572</td>\n",
       "    </tr>\n",
       "    <tr>\n",
       "      <th>23</th>\n",
       "      <td>VCM-402</td>\n",
       "      <td>09/2023</td>\n",
       "      <td>947817</td>\n",
       "    </tr>\n",
       "    <tr>\n",
       "      <th>24</th>\n",
       "      <td>VCM-403</td>\n",
       "      <td>09/2023</td>\n",
       "      <td>738178</td>\n",
       "    </tr>\n",
       "    <tr>\n",
       "      <th>25</th>\n",
       "      <td>VCM-404</td>\n",
       "      <td>09/2023</td>\n",
       "      <td>2017154</td>\n",
       "    </tr>\n",
       "    <tr>\n",
       "      <th>26</th>\n",
       "      <td>VCM-500</td>\n",
       "      <td>09/2023</td>\n",
       "      <td>221191</td>\n",
       "    </tr>\n",
       "    <tr>\n",
       "      <th>27</th>\n",
       "      <td>VCM-501</td>\n",
       "      <td>09/2023</td>\n",
       "      <td>3235216</td>\n",
       "    </tr>\n",
       "    <tr>\n",
       "      <th>28</th>\n",
       "      <td>VCM-502</td>\n",
       "      <td>09/2023</td>\n",
       "      <td>497578</td>\n",
       "    </tr>\n",
       "    <tr>\n",
       "      <th>29</th>\n",
       "      <td>VCM-503</td>\n",
       "      <td>09/2023</td>\n",
       "      <td>114980</td>\n",
       "    </tr>\n",
       "    <tr>\n",
       "      <th>30</th>\n",
       "      <td>VCM-504</td>\n",
       "      <td>09/2023</td>\n",
       "      <td>125523</td>\n",
       "    </tr>\n",
       "    <tr>\n",
       "      <th>31</th>\n",
       "      <td>VCM-600</td>\n",
       "      <td>09/2023</td>\n",
       "      <td>83467</td>\n",
       "    </tr>\n",
       "    <tr>\n",
       "      <th>32</th>\n",
       "      <td>VCM-601</td>\n",
       "      <td>09/2023</td>\n",
       "      <td>2013677</td>\n",
       "    </tr>\n",
       "    <tr>\n",
       "      <th>33</th>\n",
       "      <td>VCM-602</td>\n",
       "      <td>09/2023</td>\n",
       "      <td>1233735</td>\n",
       "    </tr>\n",
       "    <tr>\n",
       "      <th>34</th>\n",
       "      <td>VCM-603</td>\n",
       "      <td>09/2023</td>\n",
       "      <td>233821</td>\n",
       "    </tr>\n",
       "    <tr>\n",
       "      <th>35</th>\n",
       "      <td>VCM-604</td>\n",
       "      <td>09/2023</td>\n",
       "      <td>848406</td>\n",
       "    </tr>\n",
       "    <tr>\n",
       "      <th>36</th>\n",
       "      <td>VCM-605</td>\n",
       "      <td>09/2023</td>\n",
       "      <td>454438</td>\n",
       "    </tr>\n",
       "    <tr>\n",
       "      <th>37</th>\n",
       "      <td>VCM-606</td>\n",
       "      <td>09/2023</td>\n",
       "      <td>460936</td>\n",
       "    </tr>\n",
       "    <tr>\n",
       "      <th>38</th>\n",
       "      <td>VCM-607</td>\n",
       "      <td>09/2023</td>\n",
       "      <td>371511</td>\n",
       "    </tr>\n",
       "    <tr>\n",
       "      <th>39</th>\n",
       "      <td>VCM-701</td>\n",
       "      <td>09/2023</td>\n",
       "      <td>499860</td>\n",
       "    </tr>\n",
       "    <tr>\n",
       "      <th>40</th>\n",
       "      <td>VCM-702</td>\n",
       "      <td>09/2023</td>\n",
       "      <td>613866</td>\n",
       "    </tr>\n",
       "    <tr>\n",
       "      <th>41</th>\n",
       "      <td>V5805</td>\n",
       "      <td>09/2023</td>\n",
       "      <td>15222</td>\n",
       "    </tr>\n",
       "  </tbody>\n",
       "</table>\n",
       "</div>"
      ],
      "text/plain": [
       "   Concesion      Mes  Total_BASE\n",
       "0   URCM-005  09/2023     1054290\n",
       "1   URCM-013  09/2023      252318\n",
       "2   URCM-014  09/2023      117990\n",
       "3   URCM-148  09/2023      505390\n",
       "4   URCM-152  09/2023       55576\n",
       "5   URCM-161  09/2023      413835\n",
       "6    VAC-023  09/2023      107516\n",
       "7    VAC-082  09/2023       26242\n",
       "8    VAC-226  09/2023        1348\n",
       "9    VAC-231  09/2023       66699\n",
       "10   VAC-243  09/2023       53506\n",
       "11   VCM-101  09/2023     1317462\n",
       "12   VCM-102  09/2023      136024\n",
       "13   VCM-103  09/2023      391041\n",
       "14   VCM-200  09/2023      248875\n",
       "15   VCM-201  09/2023      939016\n",
       "16   VCM-202  09/2023     1202659\n",
       "17   VCM-203  09/2023      472570\n",
       "18   VCM-204  09/2023       37250\n",
       "19   VCM-301  09/2023      999588\n",
       "20   VCM-302  09/2023      332836\n",
       "21   VCM-303  09/2023       88289\n",
       "22   VCM-401  09/2023      744572\n",
       "23   VCM-402  09/2023      947817\n",
       "24   VCM-403  09/2023      738178\n",
       "25   VCM-404  09/2023     2017154\n",
       "26   VCM-500  09/2023      221191\n",
       "27   VCM-501  09/2023     3235216\n",
       "28   VCM-502  09/2023      497578\n",
       "29   VCM-503  09/2023      114980\n",
       "30   VCM-504  09/2023      125523\n",
       "31   VCM-600  09/2023       83467\n",
       "32   VCM-601  09/2023     2013677\n",
       "33   VCM-602  09/2023     1233735\n",
       "34   VCM-603  09/2023      233821\n",
       "35   VCM-604  09/2023      848406\n",
       "36   VCM-605  09/2023      454438\n",
       "37   VCM-606  09/2023      460936\n",
       "38   VCM-607  09/2023      371511\n",
       "39   VCM-701  09/2023      499860\n",
       "40   VCM-702  09/2023      613866\n",
       "41     V5805  09/2023       15222"
      ]
     },
     "execution_count": 35,
     "metadata": {},
     "output_type": "execute_result"
    }
   ],
   "source": [
    "datos_base_ok"
   ]
  },
  {
   "cell_type": "code",
   "execution_count": 36,
   "metadata": {},
   "outputs": [
    {
     "name": "stderr",
     "output_type": "stream",
     "text": [
      "C:\\Users\\ray\\AppData\\Local\\Temp\\ipykernel_23900\\3157417470.py:1: SettingWithCopyWarning: \n",
      "A value is trying to be set on a copy of a slice from a DataFrame.\n",
      "Try using .loc[row_indexer,col_indexer] = value instead\n",
      "\n",
      "See the caveats in the documentation: https://pandas.pydata.org/pandas-docs/stable/user_guide/indexing.html#returning-a-view-versus-a-copy\n",
      "  datos_base_ok.Mes = pd.to_datetime(datos_base_ok.Mes, format=\"%m/%Y\")\n",
      "C:\\Users\\ray\\AppData\\Local\\Temp\\ipykernel_23900\\3157417470.py:3: SettingWithCopyWarning: \n",
      "A value is trying to be set on a copy of a slice from a DataFrame.\n",
      "Try using .loc[row_indexer,col_indexer] = value instead\n",
      "\n",
      "See the caveats in the documentation: https://pandas.pydata.org/pandas-docs/stable/user_guide/indexing.html#returning-a-view-versus-a-copy\n",
      "  datos_base_ok.Mes = pd.to_datetime(datos_base_ok.Mes)\n",
      "C:\\Users\\ray\\AppData\\Local\\Temp\\ipykernel_23900\\3157417470.py:4: SettingWithCopyWarning: \n",
      "A value is trying to be set on a copy of a slice from a DataFrame.\n",
      "Try using .loc[row_indexer,col_indexer] = value instead\n",
      "\n",
      "See the caveats in the documentation: https://pandas.pydata.org/pandas-docs/stable/user_guide/indexing.html#returning-a-view-versus-a-copy\n",
      "  datos_base_ok.Mes = datos_base_ok.Mes.dt.to_period(\"M\")\n"
     ]
    }
   ],
   "source": [
    "datos_base_ok.Mes = pd.to_datetime(datos_base_ok.Mes, format=\"%m/%Y\")\n",
    "if datos_base_ok.Mes.dtypes == \"datetime64[ns]\":\n",
    "    datos_base_ok.Mes = pd.to_datetime(datos_base_ok.Mes)\n",
    "    datos_base_ok.Mes = datos_base_ok.Mes.dt.to_period(\"M\")"
   ]
  },
  {
   "cell_type": "markdown",
   "metadata": {},
   "source": [
    "## Agrupo todas las columnas por concesion y fecha"
   ]
  },
  {
   "cell_type": "code",
   "execution_count": 37,
   "metadata": {},
   "outputs": [
    {
     "name": "stdout",
     "output_type": "stream",
     "text": [
      "columnas datos_via:  Index(['Concesion', 'Mes', 'Total_VIA'], dtype='object')\n",
      "columnas datos_bit:  Index(['Concesion', 'Mes', 'Total_BIT'], dtype='object')\n",
      "columnas datos_vac:  Index(['Concesion', 'Mes', 'Total_VAC'], dtype='object')\n"
     ]
    }
   ],
   "source": [
    "## renombramos todas las columnas del dataframe\n",
    "month_datos_via_export.rename({\"CONCESION\":\"Concesion\", \"FECHA\":\"Mes\", \"Total\":\"Total\"}, axis=1, inplace=True)\n",
    "month_datos_bit_export.rename({\"CONCESION\":\"Concesion\", \"Periodo\":\"Mes\", \"Total\":\"Total\"}, axis=1, inplace=True)\n",
    "month_datos_vac_export.rename({\"CONCESION\":\"Concesion\", \"Fecha\":\"Mes\", \"Total\":\"Total\"}, axis=1, inplace=True)\n",
    "\n",
    "print(\"columnas datos_via: \",month_datos_via_export.columns)\n",
    "print(\"columnas datos_bit: \",month_datos_bit_export.columns)\n",
    "print(\"columnas datos_vac: \",month_datos_vac_export.columns)\n",
    "\n",
    "# print(\"columnas datos_base: \",datos_base.columns)"
   ]
  },
  {
   "cell_type": "code",
   "execution_count": 38,
   "metadata": {},
   "outputs": [
    {
     "name": "stdout",
     "output_type": "stream",
     "text": [
      "BIT_TIPO_MES:  period[M]\n",
      "BIT_TIPO_VIA:  period[M]\n",
      "BIT_TIPO_VAC:  period[M]\n"
     ]
    }
   ],
   "source": [
    "print(\"BIT_TIPO_MES: \",month_datos_bit_export.Mes.dtypes)\n",
    "print(\"BIT_TIPO_VIA: \",month_datos_via_export.Mes.dtypes)\n",
    "print(\"BIT_TIPO_VAC: \",month_datos_vac_export.Mes.dtypes)"
   ]
  },
  {
   "cell_type": "code",
   "execution_count": 39,
   "metadata": {},
   "outputs": [],
   "source": [
    "lista_concat = ['Concesion', 'Mes']\n",
    "\n",
    "lista_totales_union_INTERURBANOS = pd.merge(pd.merge(month_datos_via_export, \n",
    "    month_datos_bit_export, on=lista_concat, how=\"left\")\n",
    "    , datos_base_ok, on=lista_concat, how=\"left\")\n",
    "\n",
    "lista_totales_union_INTERURBANOS.rename({\"Total_x\":\"Total_via\", \"Total_y\":\"Total_bit\", \"Total\":\"Total_BASE\"}, axis=1, inplace=True)\n",
    "lista_totales_union_INTERURBANOS.drop([\"Mes\"], axis=1, inplace=True)\n",
    "# lista_totales_union_INTERURBANOS = lista_totales_union_INTERURBANOS.applymap(lambda x: f'{x:.2f}' if pd.notna(x) and isinstance(x, (float, int)) else x)\n",
    "\n",
    "lista_totales_union_VACs = pd.merge(pd.merge(pd.merge(month_datos_vac_export, month_datos_bit_export, on=lista_concat, how=\"left\"), datos_base_ok, on=lista_concat, how=\"left\"), month_datos_via_export, on=lista_concat, how=\"left\")\n",
    "lista_totales_union_VACs.rename({\"Total_x\":\"Total_via\", \"Total_y\":\"Total_bit\", \"Total\":\"Total_BASE\"}, axis=1, inplace=True)\n",
    "lista_totales_union_VACs.drop([\"Mes\"], axis=1, inplace=True)\n",
    "# lista_totales_union_VACs = lista_totales_union_VACs.applymap(lambda x: f'{x:.2f}' if pd.notna(x) and isinstance(x, (float, int)) else x)"
   ]
  },
  {
   "cell_type": "code",
   "execution_count": 40,
   "metadata": {},
   "outputs": [],
   "source": [
    "lista_totales_union_INTERURBANOS = lista_totales_union_INTERURBANOS[(lista_totales_union_INTERURBANOS.Concesion != \"-\") & (lista_totales_union_INTERURBANOS.Concesion != \"97\")]"
   ]
  },
  {
   "cell_type": "code",
   "execution_count": 41,
   "metadata": {},
   "outputs": [],
   "source": [
    "lista_vacs_interurbano = ['V5805', 'VAC-023', 'VAC-051', 'VAC-063', 'VAC-082', 'VAC-087', 'VAC-093', 'VAC-152', 'VAC-158', 'VAC-221', 'VAC-226', 'VAC-231', 'VAC-243', 'VAC-249']\n",
    "\n",
    "interurbanos_VAC = lista_totales_union_INTERURBANOS[lista_totales_union_INTERURBANOS['Concesion'].isin(lista_vacs_interurbano)]\n",
    "interurbanos_VCM = lista_totales_union_INTERURBANOS[~lista_totales_union_INTERURBANOS['Concesion'].isin(lista_vacs_interurbano)]\n"
   ]
  },
  {
   "cell_type": "code",
   "execution_count": 36,
   "metadata": {},
   "outputs": [],
   "source": [
    "lista_totales_union_VACs = lista_totales_union_VACs[(lista_totales_union_VACs.Concesion != \"-\") & (lista_totales_union_VACs.Concesion != \"97\")]"
   ]
  },
  {
   "cell_type": "code",
   "execution_count": 37,
   "metadata": {},
   "outputs": [],
   "source": [
    "## generamos dos listas, una para interurbanos y otra para VACs\n",
    "lista_totales_union_INTERURBANOS.to_excel(\"./pruebas_out_app/interurbanos.xlsx\", index=None)\n",
    "lista_totales_union_VACs.to_excel(\"./pruebas_out_app/vacs.xlsx\", index=None)\n",
    "interurbanos_VAC.to_excel(\"./pruebas_out_app/interurbanos_VAC.xlsx\", index=None)\n",
    "interurbanos_VCM.to_excel(\"./pruebas_out_app/interurbanos_VCM.xlsx\", index=None)"
   ]
  },
  {
   "cell_type": "code",
   "execution_count": 38,
   "metadata": {},
   "outputs": [
    {
     "data": {
      "text/plain": [
       "Index(['Concesion', 'Total_VAC', 'Total_BIT', 'Total_BASE', 'Total_VIA'], dtype='object')"
      ]
     },
     "execution_count": 38,
     "metadata": {},
     "output_type": "execute_result"
    }
   ],
   "source": [
    "lista_totales_union_VACs.columns"
   ]
  }
 ],
 "metadata": {
  "kernelspec": {
   "display_name": "Python 3",
   "language": "python",
   "name": "python3"
  },
  "language_info": {
   "codemirror_mode": {
    "name": "ipython",
    "version": 3
   },
   "file_extension": ".py",
   "mimetype": "text/x-python",
   "name": "python",
   "nbconvert_exporter": "python",
   "pygments_lexer": "ipython3",
   "version": "3.11.7"
  }
 },
 "nbformat": 4,
 "nbformat_minor": 2
}
