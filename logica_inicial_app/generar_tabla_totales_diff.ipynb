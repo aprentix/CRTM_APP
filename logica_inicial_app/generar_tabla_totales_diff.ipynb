{
 "cells": [
  {
   "cell_type": "code",
   "execution_count": 1,
   "metadata": {},
   "outputs": [],
   "source": [
    "import pandas as pd\n",
    "import numpy as np"
   ]
  },
  {
   "cell_type": "code",
   "execution_count": 2,
   "metadata": {},
   "outputs": [],
   "source": [
    "interurbanos = pd.read_excel(\"../pruebas_out_app/interurbanos.xlsx\")\n",
    "vacs = pd.read_excel(\"../pruebas_out_app/vacs.xlsx\")"
   ]
  },
  {
   "cell_type": "code",
   "execution_count": 3,
   "metadata": {},
   "outputs": [
    {
     "name": "stdout",
     "output_type": "stream",
     "text": [
      "INTERURBANOS:  Index(['Concesion', 'Total_VIA', 'Total_BIT', 'Total_BASE'], dtype='object') (1, 4)\n",
      "VACs:  Index(['Concesion', 'Total_VAC', 'Total_BIT', 'Total_BASE', 'Total_VIA'], dtype='object') (5, 5)\n"
     ]
    }
   ],
   "source": [
    "print(\"INTERURBANOS: \",interurbanos.columns, interurbanos.shape)\n",
    "print(\"VACs: \",vacs.columns, vacs.shape)"
   ]
  },
  {
   "cell_type": "code",
   "execution_count": 4,
   "metadata": {},
   "outputs": [],
   "source": [
    "interurbanos.rename({\"Concesion\":\"CONCESION\", \"Total_VIA\":\"VIA\",\"Total_BIT\":\"BIT\",\"Total_BASE\":\"BASE\"}, axis=1 , inplace=True)\n",
    "vacs.rename({\"Concesion\":\"CONCESION\",\"Total_VIA\":\"VIA\", \"Total_VAC\":\"VAC\",\"Total_BIT\":\"BIT\",\"Total_BASE\":\"BASE\"}, axis=1 , inplace=True)"
   ]
  },
  {
   "cell_type": "code",
   "execution_count": 5,
   "metadata": {},
   "outputs": [
    {
     "data": {
      "text/plain": [
       "Index(['CONCESION', 'VAC', 'BIT', 'BASE', 'VIA'], dtype='object')"
      ]
     },
     "execution_count": 5,
     "metadata": {},
     "output_type": "execute_result"
    }
   ],
   "source": [
    "vacs.columns"
   ]
  },
  {
   "cell_type": "code",
   "execution_count": 5,
   "metadata": {},
   "outputs": [],
   "source": [
    "### INTERURBANOS\n",
    "# BASE-VIA = BASE-VIA\n",
    "# %DIF/BASE = ((BASE-VIA)/BASE)*100\n",
    "# BIT-BASE = BIT-BASE\n",
    "# %BIT/BASE = (BIT/BASE)*100\n",
    "# %BIT/VIA = (BIT/VIA)*100\n",
    "\n",
    "''' \n",
    "Los filtros de colores indican:\n",
    "amarillo si %DIF/BASE => -0.005<val<0.005 # val not in\n",
    "morado si %BIT/BASE => 0.995<val<1.005 # val in\n",
    "verde si %BIT/VIA => 0.995<val<1005 # val in\n",
    "'''\n",
    "def notificacion():\n",
    "    print(\"CE - Contactar Empresa para que aclare las diferencias entre BASE y VIA.\")\n",
    "\n",
    "# def asign_color_interurbanos(df):\n",
    "#     df[\"%DIF/BASE\"].apply(lambda x: \"OK\" if -0.005<x<0.005 else x)\n",
    "#     df[\"%BIT/VIA\"].apply(lambda x: \"OK, CE\" if 0.995<x<1005 else x) ## ¿Pasamos a comprobar el BIT-BASE?\n",
    "#     df[\"BIT-BASE\"].apply(lambda x: \"OK\" if 0.995<x<1.005 else x)\n",
    "\n",
    "''' \n",
    "'CONCESION', 'VIA', 'BIT', 'BASE', 'BASE-VIA', '%DIF/BASE', 'BIT-BASE',\n",
    "'%BIT/BASE', '%BIT/VIA', 'DECISION'\n",
    "'''\n",
    "''' \n",
    "amarillo: not -0.005<x[\"%DIF/BASE\"]<0.005\n",
    "verde: entre 0.995<x[\"%BIT/VIA\"]<1005\n",
    "morado: entre 0.995<x[\"%BIT/BASE\"]<1.005\n",
    "'''\n",
    "def assign_categorie_interurbanos(x): \n",
    "    if -0.005<x[\"%DIF/BASE\"]<0.005: ## (UNO BLANCO)\n",
    "        if 0.995<x[\"%BIT/VIA\"]<1005: ## (UNO BLANCO, A VERDE)\n",
    "            return pd.Series([\"VIA\", \"\"])\n",
    "        elif not 0.995<x[\"%BIT/VIA\"]<1005: ## (UNO BLANCO, B BLANCO)\n",
    "            if not -0.005<x[\"%DIF/BASE\"]<0.005: ## DOS AMARILLO\n",
    "                if 0.995<x[\"%BIT/VIA\"]<1005: ## (DOS AMARILLO, A VERDE)\n",
    "                    return pd.Series([\"VIA\", \"CE\"])\n",
    "                elif not 0.995<x[\"%BIT/VIA\"]<1005: ## (DOS AMARILLO, B BLANCO)\n",
    "                    if 0.995<x[\"%BIT/BASE\"]<1.005: ## (DOS AMARILLO, B BLANCO, X MORADO)\n",
    "                        return pd.Series([\"BIT\", \"ERROR VIA\"])\n",
    "                    else:\n",
    "                        return pd.Series([\"BASE\",\"SIN COINCIDENCIAS\"])\n",
    "    elif not -0.005<x[\"%DIF/BASE\"]<0.005: ## DOS AMARILLO\n",
    "        if 0.995<x[\"%BIT/VIA\"]<1005: ## (DOS AMARILLO, A VERDE)\n",
    "            return pd.Series([\"VIA\", \"CE\"])\n",
    "        elif not 0.995<x[\"%BIT/VIA\"]<1005: ## (DOS AMARILLO, B BLANCO)\n",
    "            if 0.995<x[\"%BIT/BASE\"]<1.005: ## (DOS AMARILLO, B BLANCO, X MORADO)\n",
    "                return pd.Series([\"BIT\", \"ERROR VIA\"])\n",
    "            else:\n",
    "                return pd.Series([\"BASE\",\"SIN COINCIDENCIAS\"])\n",
    "    else:\n",
    "        return pd.Series([\"CE\",\"\"])\n",
    "\n",
    "\n",
    "### VACs\n",
    "# BASE-VIA = BASE-VIA\n",
    "# %DIF/BASE = (BASE-VIA)/BASE\n",
    "# VAC-BASE = VAC-BASE\n",
    "# VAC/VIA = VAC/VIA\n",
    "''' \n",
    "amarillo: not -0.005<x[\"%DIF/BASE\"]<0.005\n",
    "verde: entre 0.995<x[\"%VAC/VIA\"]<1.005\n",
    "morado: entre x[\"VAC\"]*0.99<x[\"BIT\"]<x[\"VAC\"]*1.01\n",
    "'''\n",
    "def assign_categorie_vacs(x):\n",
    "    if x[\"VIA\"]==0:\n",
    "        return pd.Series([\"VAC\",\"\"])\n",
    "    elif -0.005<x[\"%DIF/BASE\"]<0.005: ## (UNO BLANCO)\n",
    "        if 0.995<x[\"%VAC/VIA\"]<1.005: ## (UNO BLANCO, A VERDE)\n",
    "            return pd.Series([\"VAC\",\"\"])\n",
    "        elif not 0.995<x[\"%VAC/VIA\"]<1.005: ## (UNO BLANCO, B BLANCO)\n",
    "            if x[\"VAC\"]*0.99<x[\"BIT\"]<x[\"VAC\"]*1.01: ## (UNO BLANCO, B BLANCO, X MORADO)\n",
    "                return pd.Series([\"ANALIZAR VIA/VAC\",\"\"])\n",
    "            else:\n",
    "                return pd.Series([\"ANALIZAR DATOS\",\"\"])\n",
    "    elif not -0.005<x[\"%DIF/BASE\"]<0.005: ## (DOS AMARILLO)\n",
    "        if 0.995<x[\"%VAC/VIA\"]<1.005: ## (DOS AMARILLO, A VERDE)\n",
    "            return pd.Series([\"VAC\", \"CE\"])\n",
    "        elif not 0.995<x[\"%VAC/VIA\"]<1.005: ## (DOS AMARILLO, B BLANCO)\n",
    "            if x[\"VAC\"]*0.99<x[\"BIT\"]<x[\"VAC\"]*1.01: ## (DOS AMARILLO, B BLANCO, X MORADO)\n",
    "                return pd.Series([\"VAC\", \"CE\"])\n",
    "            else:\n",
    "                return pd.Series([\"SIN CRITERIO\",\"\"])\n",
    "    else:\n",
    "        return pd.Series([\"CE\",\"CE\"])\n",
    "\n",
    "interurbanos[\"BASE-VIA\"] = interurbanos[\"BASE\"]-interurbanos[\"VIA\"]\n",
    "interurbanos[\"%DIF/BASE\"] = (interurbanos[\"BASE-VIA\"]/interurbanos[\"BASE\"])*100\n",
    "interurbanos[\"BIT-BASE\"] = interurbanos[\"BIT\"]-interurbanos[\"BASE\"]\n",
    "interurbanos[\"%BIT/BASE\"] = (interurbanos[\"BIT\"]/interurbanos[\"BASE\"])*100\n",
    "interurbanos[\"%BIT/VIA\"] = (interurbanos[\"BIT\"]/interurbanos[\"VIA\"])*100\n",
    "interurbanos[[\"DECISION\",\"ACCION\"]] = interurbanos.apply(assign_categorie_interurbanos, axis=1)\n",
    "\n",
    "### VACs\n",
    "# BASE-VIA = BASE-VIA\n",
    "# %DIF/BASE = (BASE-VIA)/BASE\n",
    "# VAC-BASE = VAC-BASE\n",
    "# VAC/VIA = VAC/VIA\n",
    "\n",
    "vacs[\"BASE-VIA\"] = vacs[\"BASE\"]-vacs[\"VIA\"]\n",
    "vacs[\"%DIF/BASE\"] = (vacs[\"BASE-VIA\"]/vacs[\"BASE\"])*100\n",
    "vacs[\"VAC-BASE\"] = vacs[\"VAC\"]-vacs[\"BASE\"]\n",
    "vacs[\"%VAC/VIA\"] = (vacs[\"VAC\"]/vacs[\"VIA\"])*100\n",
    "vacs[[\"DECISION\",\"ACCION\"]] = vacs.apply(assign_categorie_vacs, axis=1)\n"
   ]
  },
  {
   "cell_type": "code",
   "execution_count": 13,
   "metadata": {},
   "outputs": [],
   "source": [
    "# print(\"BASE-VIA\", interurbanos[\"BASE-VIA\"].value_counts())\n",
    "# print(\"%DIF/BASE\", interurbanos[\"%DIF/BASE\"].value_counts())\n",
    "# print(\"BIT-BASE\", interurbanos[\"BIT-BASE\"].value_counts())\n",
    "# print(\"%BIT/BASE\", interurbanos[\"%BIT/BASE\"].value_counts())\n",
    "# print(\"%BIT/VIA\", interurbanos[\"%BIT/VIA\"].value_counts())"
   ]
  },
  {
   "cell_type": "code",
   "execution_count": 14,
   "metadata": {},
   "outputs": [],
   "source": [
    "# print(\"BASE-VIA\", vacs[\"BASE-VIA\"].value_counts())\n",
    "# print(\"%DIF/BASE\", vacs[\"%DIF/BASE\"].value_counts())\n",
    "# print(\"BIT-BASE\", vacs[\"BIT-BASE\"].value_counts())\n",
    "# print(\"%BIT/BASE\", vacs[\"%BIT/BASE\"].value_counts())\n",
    "# print(\"%BIT/VIA\", vacs[\"%BIT/VIA\"].value_counts())"
   ]
  },
  {
   "cell_type": "code",
   "execution_count": 15,
   "metadata": {},
   "outputs": [],
   "source": [
    "interurbanos.to_excel(\"./pruebas_out_app/interurbanos_table.xlsx\")\n",
    "vacs.to_excel(\"./pruebas_out_app/vacs_table.xlsx\")"
   ]
  }
 ],
 "metadata": {
  "kernelspec": {
   "display_name": "Python 3",
   "language": "python",
   "name": "python3"
  },
  "language_info": {
   "codemirror_mode": {
    "name": "ipython",
    "version": 3
   },
   "file_extension": ".py",
   "mimetype": "text/x-python",
   "name": "python",
   "nbconvert_exporter": "python",
   "pygments_lexer": "ipython3",
   "version": "3.11.7"
  }
 },
 "nbformat": 4,
 "nbformat_minor": 2
}
